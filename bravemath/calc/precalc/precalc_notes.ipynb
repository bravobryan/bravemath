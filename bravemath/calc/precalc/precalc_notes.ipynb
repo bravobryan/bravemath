{
 "cells": [
  {
   "attachments": {
    "image-2.png": {
     "image/png": "[encoded data removed]"
    }
   },
   "cell_type": "markdown",
   "id": "4dfa6675",
   "metadata": {},
   "source": [
    "# Precalculus Review\n",
    "Personal Notes on Precalc Review\n",
    "## Real Numbers, Functions, and Graphs\n",
    "Real Number is a number represented by a decimal\n",
    "\n",
    "A set of real numbers is represented by a boldface **R**\n",
    "- ![image-2.png](attachment:image-2.png) reading as \"a belongs to **R**\"\n",
    "- Real numbers can be rational or irrational.\n",
    "- Rational numbers can be expressed as a fraction of two integers.\n",
    "- Python Example: `0.375 = 3/8` or `np.pie()`\n",
    "- _In python this would be equivalent to a float dtype_"
   ]
  },
  {
   "cell_type": "markdown",
   "id": "79c1751c",
   "metadata": {},
   "source": []
  }
 ],
 "metadata": {
  "language_info": {
   "name": "python"
  }
 },
 "nbformat": 4,
 "nbformat_minor": 5
}
