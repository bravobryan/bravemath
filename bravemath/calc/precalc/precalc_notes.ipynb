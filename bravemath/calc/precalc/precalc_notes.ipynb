{
 "cells": [
  {
   "attachments": {
    "image-2.png": {
     "image/png": "[encoded data removed]"
    }
   },
   "cell_type": "markdown",
   "id": "4dfa6675",
   "metadata": {},
   "source": [
    "# Precalculus Review\n",
    "Personal Notes on Precalc Review\n",
    "## Real Numbers, Functions, and Graphs\n",
    "**Real Number** is a number represented by a decimal.\n",
    "\n",
    "A set of real numbers is represented by a boldface **R**\n",
    "- ![image-2.png](attachment:image-2.png) reading as \"a belongs to **R**\"\n",
    "- Real numbers can be rational or irrational.\n",
    "- Python Example: `0.375 = 3/8` or `np.pie()`\n",
    "- _In python this would be equivalent to a float dtype_\n",
    "\n",
    "An **Integer** is a whole number, commonly denoted by the letter **Z**.\n",
    "- `Z = [..., -2, -1, 0, 1, 2, ...]`\n",
    "\n",
    "**Rational** numbers can be represented by a fraction.\n",
    "- A rational number is a number that can be expressed as the quotient or fraction of two integers.\n",
    "- A rational number can be expressed as a decimal, which may be terminating or repeating.\n",
    "- Examples: `1/2`, `3/4`, `0.75`, `1.333...`\n",
    "\n",
    "An **Irrational Number** is a number that cannot be expressed as a simple fraction.\n",
    "- Examples: `sqrt(2)`, `pi`, `e`\n",
    "- Irrational numbers have non-repeating, non-terminating decimal expansions.\n",
    "\n"
   ]
  },
  {
   "cell_type": "markdown",
   "id": "79c1751c",
   "metadata": {},
   "source": []
  },
  {
   "cell_type": "code",
   "execution_count": null,
   "id": "6675e795",
   "metadata": {},
   "outputs": [],
   "source": []
  }
 ],
 "metadata": {
  "kernelspec": {
   "display_name": "base",
   "language": "python",
   "name": "python3"
  },
  "language_info": {
   "codemirror_mode": {
    "name": "ipython",
    "version": 3
   },
   "file_extension": ".py",
   "mimetype": "text/x-python",
   "name": "python",
   "nbconvert_exporter": "python",
   "pygments_lexer": "ipython3",
   "version": "3.11.5"
  }
 },
 "nbformat": 4,
 "nbformat_minor": 5
}
