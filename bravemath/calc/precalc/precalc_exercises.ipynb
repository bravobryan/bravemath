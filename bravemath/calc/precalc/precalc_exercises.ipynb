{
 "cells": [
  {
   "cell_type": "markdown",
   "id": "b59d816f",
   "metadata": {},
   "source": [
    "Testing"
   ]
  },
  {
   "cell_type": "markdown",
   "id": "b7035b96",
   "metadata": {},
   "source": []
  }
 ],
 "metadata": {
  "language_info": {
   "name": "python"
  }
 },
 "nbformat": 4,
 "nbformat_minor": 5
}
