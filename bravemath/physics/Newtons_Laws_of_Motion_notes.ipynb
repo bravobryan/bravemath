{
 "cells": [
  {
   "cell_type": "markdown",
   "id": "03b5c767",
   "metadata": {},
   "source": [
    "# Newtons Laws of Motion\n",
    "## Space and Time\n",
    "**Newton's three laws of motion** are created from the notions of **space, time, mass, and force**. "
   ]
  },
  {
   "cell_type": "markdown",
   "id": "be33092a",
   "metadata": {},
   "source": []
  }
 ],
 "metadata": {
  "language_info": {
   "name": "python"
  }
 },
 "nbformat": 4,
 "nbformat_minor": 5
}
