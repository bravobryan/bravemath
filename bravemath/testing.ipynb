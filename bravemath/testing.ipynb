{
 "cells": [
  {
   "cell_type": "code",
   "execution_count": 40,
   "id": "c49ce90a",
   "metadata": {},
   "outputs": [
    {
     "data": {
      "image/png": "[encoded data removed]",
      "text/plain": [
       "<Figure size 1000x200 with 1 Axes>"
      ]
     },
     "metadata": {},
     "output_type": "display_data"
    }
   ],
   "source": [
    "import matplotlib.pyplot as plt\n",
    "import numpy as np\n",
    "import pandas as pd\n",
    "\n",
    "def plot_real_numbers(selection, notation=None):\n",
    "    \"\"\"\n",
    "    Plot a horizontal line with selected values and their distance.\n",
    "    :param selection: A list or array of two real numbers representing the interval.\n",
    "        This function will plot the interval and annotate the midpoint, radius, and distance between the two values.\n",
    "        It will also plot the range of values between the two selected numbers.\n",
    "    :param notation: String. Optional, used when needing to visualize the interval in a specific notation.\n",
    "        Use \"-\" to represent an infinite interval, e.g., \"-oo-\" for (-∞, ∞)\n",
    "        Use \"U\" to represent the union of intervals, e.g., \"U\" for (-∞, a) U (b, ∞)\n",
    "        Example: \"cc\" for closed interval [a,b],    \n",
    "                \"oo\" for open interval (a,b),\n",
    "                \"oc\" for half-open interval [a,b),\n",
    "                \"co\" for half-open interval (a,b],\n",
    "                \"-oo-\" for infinite interval (-∞, ∞),\n",
    "                \"-oo\" for (-∞, b),\n",
    "                \"oo-\" for (a, ∞),\n",
    "                \"-oc\" for (-∞, b],\n",
    "                \"co-\" for [a, ∞),\n",
    "                \"-ooUoo-\" for (-∞, b) U (c, ∞),\n",
    "                \"-ocUco-\" for (-∞, b] U [c, ∞),\n",
    "    :raises ValueError: If the selection does not contain exactly two values.\n",
    "    :return: None. Displays a plot with the interval and annotations.\n",
    "    \n",
    "    Updated: \n",
    "        - 2025-08-20: Created the function.\n",
    "    \n",
    "    \"\"\"\n",
    "    if notation is None:\n",
    "        if len(selection) != 2:\n",
    "            raise ValueError(\"Selection must contain exactly two values.\")\n",
    "        values = np.array(selection)\n",
    "\n",
    "        mid_selection = np.mean(selection)\n",
    "        range_values = [*range(int(np.min(values)-np.abs(np.mean(values)*0.50)), int(np.max(values)+np.abs(np.mean(values)*0.50)))]\n",
    "\n",
    "        fig, ax = plt.subplots(figsize=(10, 2))\n",
    "\n",
    "        # Annotate each value on the x-axis\n",
    "        for i, value in enumerate(values):\n",
    "            ax.annotate(str(value), (value, 0), textcoords=\"offset points\", xytext=(0,10), ha='center')\n",
    "\n",
    "        ax.plot(range_values, [0] * len(range_values), linestyle=\"\", marker='|', markersize=10, color='black')\n",
    "        \n",
    "        ax.plot(range_values, [0] * len(range_values), linestyle=None, color='black')\n",
    "        ax.plot(values, [0] * len(values), linestyle='-', marker='o', markersize=10, color='red')\n",
    "\n",
    "        ax.annotate(f\"{selection[0]}\", (selection[0], 1), textcoords=\"offset points\", xytext=(0,10), ha='center', color='Black')\n",
    "        ax.annotate(f\"{selection[1]}\", (selection[1], 1), textcoords=\"offset points\", xytext=(0,10), ha='center', color='Black')\n",
    "        ax.annotate(f'Distance: {np.abs(selection[1]-selection[0])}', (mid_selection, 1), textcoords=\"offset points\", xytext=(0,15), ha='center', color='Black')\n",
    "        ax.plot(selection, [1] * len(selection), linestyle='-', marker='|', markersize=10, color='Black')\n",
    "\n",
    "        ax.set_ylim(-1, 2)\n",
    "        ax.set_yticklabels([])\n",
    "\n",
    "        # Plot the midpoint\n",
    "        ax.annotate(f'Midpoint: {mid_selection}', (mid_selection, 1), textcoords=\"offset points\", xytext=(0,25), ha='center', color='Blue')\n",
    "        ax.plot([mid_selection], [1], marker='o', markersize=10, color='Blue')\n",
    "\n",
    "        # Plot the radius\n",
    "        ax.annotate(f'Radius: {np.abs(selection[1]-selection[0])/2}', (mid_selection, 1), textcoords=\"offset points\", xytext=(0,-15), ha='center', color='Green')\n",
    "        ax.plot([mid_selection - np.abs(selection[1]-selection[0])/2, mid_selection + np.abs(selection[1]-selection[0])/2], [1, 1], linestyle='--', color='Green')\n",
    "\n",
    "        # Add the title and labels\n",
    "        ax.set_title(f'Defining [{selection[0]}, {selection[1]}] as an interval')\n",
    "\n",
    "        plt.show()\n",
    "    \n",
    "    # if notation:\n",
    "    #     if notation == \"oo\":\n",
    "            \n",
    "        \n",
    "\n",
    "values = np.random.randint(-25, 25, size=2)\n",
    "\n",
    "plot_real_numbers(values, notation=None)\n"
   ]
  },
  {
   "cell_type": "code",
   "execution_count": null,
   "id": "f452f238",
   "metadata": {},
   "outputs": [],
   "source": []
  }
 ],
 "metadata": {
  "kernelspec": {
   "display_name": "base",
   "language": "python",
   "name": "python3"
  },
  "language_info": {
   "codemirror_mode": {
    "name": "ipython",
    "version": 3
   },
   "file_extension": ".py",
   "mimetype": "text/x-python",
   "name": "python",
   "nbconvert_exporter": "python",
   "pygments_lexer": "ipython3",
   "version": "3.11.5"
  }
 },
 "nbformat": 4,
 "nbformat_minor": 5
}
