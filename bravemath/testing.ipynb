{
 "cells": [
  {
   "cell_type": "code",
   "execution_count": null,
   "id": "96176926",
   "metadata": {},
   "outputs": [
    {
     "data": {
      "image/png": "[encoded data removed]",
      "text/plain": [
       "<Figure size 1000x200 with 1 Axes>"
      ]
     },
     "metadata": {},
     "output_type": "display_data"
    }
   ],
   "source": [
    "import matplotlib.pyplot as plt\n",
    "import numpy as np\n",
    "import pandas as pd\n",
    "\n",
    "values = np.random.randint(-25, 25, size=10)\n",
    "selection = np.random.choice(values, size=2, replace=False)\n",
    "\n",
    "mid_selection = np.mean(selection)\n",
    "range_values = [*range(np.min(values), np.max(values)+1, 1)]\n",
    "\n",
    "fig, ax = plt.subplots(figsize=(10, 2))\n",
    "\n",
    "# Annotate each value on the x-axis\n",
    "for i, value in enumerate(values):\n",
    "    ax.annotate(str(value), (value, 0), textcoords=\"offset points\", xytext=(0,10), ha='center')\n",
    "\n",
    "ax.plot(values, [0] * len(values), linestyle='-', marker='o', markersize=10, color='Red')\n",
    "ax.plot(range_values, [0] * len(range_values), linestyle=None, marker='|', markersize=10, color='Black')\n",
    "\n",
    "ax.annotate(f\"{selection[0]}\", (selection[0], 1), textcoords=\"offset points\", xytext=(0,10), ha='center', color='Black')\n",
    "ax.annotate(f\"{selection[1]}\", (selection[1], 1), textcoords=\"offset points\", xytext=(0,10), ha='center', color='Black')\n",
    "ax.annotate('|a|', (mid_selection, 1), textcoords=\"offset points\", xytext=(0,10), ha='center', color='Black')\n",
    "ax.plot(selection, [1] * len(selection), linestyle='-', marker='|', markersize=10, color='Black')\n",
    "\n",
    "ax.set_ylim(-1, 2)\n",
    "ax.set_yticklabels([])\n",
    "\n",
    "plt.show()"
   ]
  },
  {
   "cell_type": "code",
   "execution_count": null,
   "metadata": {},
   "outputs": [],
   "source": []
  }
 ],
 "metadata": {
  "kernelspec": {
   "display_name": "base",
   "language": "python",
   "name": "python3"
  },
  "language_info": {
   "codemirror_mode": {
    "name": "ipython",
    "version": 3
   },
   "file_extension": ".py",
   "mimetype": "text/x-python",
   "name": "python",
   "nbconvert_exporter": "python",
   "pygments_lexer": "ipython3",
   "version": "3.11.5"
  }
 },
 "nbformat": 4,
 "nbformat_minor": 5
}
